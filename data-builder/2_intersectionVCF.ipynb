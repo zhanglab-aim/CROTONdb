{
 "cells": [
  {
   "cell_type": "markdown",
   "id": "917b38bf",
   "metadata": {},
   "source": [
    "# Intersecting sgRNA sequences with VCF\n",
    "\n",
    "use bash scripts, i.e. `vcftools` and `bedtools`, to merge VCFs and intersect with the CDS-PAMs generated in step 1"
   ]
  },
  {
   "cell_type": "markdown",
   "id": "f3482bde",
   "metadata": {},
   "source": [
    "### Prepare VCF file\n",
    "\n",
    "**1. Download Gnomad and dbSNP build 151:**\n",
    "- Gnomad: https://gnomad.broadinstitute.org/downloads#v2-liftover-variants\n",
    "- dbSNP 151: https://ftp.ncbi.nlm.nih.gov/snp/organisms/human_9606_b151_GRCh38p7/VCF/\n",
    "\n",
    "**2. Strip `chr` in Gnomad VCF:**\n",
    "```bash\n",
    "zcat gnomad.exomes.r2.1.1.sites.liftover_grch38.vcf.gz | awk '{gsub(/^chr/,\"\"); print}' | bgzip -c  > gnomad.exomes.r2.1.1.sites.liftover_grch38.NoCHR.vcf.gz ; tabix -p vcf gnomad.exomes.r2.1.1.sites.liftover_grch38.NoCHR.vcf.gz\n",
    "```\n",
    "\n",
    "**3. Merge Gnomad and dbSNP**\n",
    "```bash\n",
    "vcf-merge Gnomad_V2_Exomes_hg38_liftover/gnomad.exomes.r2.1.1.sites.liftover_grch38.NoCHR.vcf.gz hg38_All_20180418.vcf.gz  | bgzip -c > Gnomad_V2_Exomes_hg38_liftover-AND-hg38_dbSNP151_20180418.vcf.gz\n",
    "tabix -p vcf Gnomad_V2_Exomes_hg38_liftover-AND-hg38_dbSNP151_20180418.vcf.gz\n",
    "```\n",
    "*Warning: This could take a really long time (~2days).*\n",
    "\n",
    "\n",
    "**4. Split by Chromosomes**\n",
    "\n",
    "This is necessary to perform chromosome-level intersections.\n",
    "```bash\n",
    "for i in `seq 1 22`; do\n",
    "    echo $i\n",
    "    tabix Gnomad_V2_Exomes_hg38_liftover-AND-hg38_dbSNP151_20180418.vcf.gz $i > Gnomad_V2_Exomes_hg38_liftover-AND-hg38_dbSNP151_20180418/$i.vcf\n",
    "done\n",
    "tabix Gnomad_V2_Exomes_hg38_liftover-AND-hg38_dbSNP151_20180418.vcf.gz X > Gnomad_V2_Exomes_hg38_liftover-AND-hg38_dbSNP151_20180418/X.vcf\n",
    "```\n",
    "\n",
    "\n",
    "**5. Intersection with CRISPR/Cas9 target sequences.**\n",
    "\n",
    "See below\n"
   ]
  },
  {
   "cell_type": "markdown",
   "id": "84fd9fdb",
   "metadata": {},
   "source": [
    "```bash\n",
    "for i in `seq 1 22`; do \n",
    "    echo $i; \n",
    "    bedtools intersect \\\n",
    "    -a ./frontend/data/bed/CDSpams-byChrom/$i.bed \\\n",
    "    -b /home/lingj/zhanglab/shared/genomes/vcf/Gnomad_V2_Exomes_hg38_liftover-AND-hg38_dbSNP151_20180418/$i.vcf \\\n",
    "    -loj > ./frontend/data/bed/CDSpams-byChrom/$i.intersect.bed; \n",
    "done\n",
    "```"
   ]
  },
  {
   "cell_type": "markdown",
   "id": "ab74b824",
   "metadata": {},
   "source": [
    "```bash\n",
    "i=\"X\"\n",
    "echo $i; \n",
    "bedtools intersect \\\n",
    "-a ./frontend/data/bed/CDSpams-byChrom/$i.bed \\\n",
    "-b /home/lingj/zhanglab/shared/genomes/vcf/Gnomad_V2_Exomes_hg38_liftover-AND-hg38_dbSNP151_20180418/$i.vcf \\\n",
    "-loj > ./frontend/data/bed/CDSpams-byChrom/$i.intersect.bed; \n",
    "```"
   ]
  },
  {
   "cell_type": "code",
   "execution_count": 1,
   "id": "9417091f",
   "metadata": {},
   "outputs": [
    {
     "name": "stdout",
     "output_type": "stream",
     "text": [
      "Last updated: Sun Aug 28 2022\n",
      "\n",
      "Python implementation: CPython\n",
      "Python version       : 3.7.9\n",
      "IPython version      : 7.22.0\n",
      "\n",
      "Watermark: 2.3.1\n",
      "\n"
     ]
    }
   ],
   "source": [
    "%load_ext watermark\n",
    "%watermark -n -u -v -iv -w"
   ]
  },
  {
   "cell_type": "code",
   "execution_count": 3,
   "id": "c42f988c",
   "metadata": {},
   "outputs": [
    {
     "name": "stdout",
     "output_type": "stream",
     "text": [
      "VCFtools (0.1.16)\n",
      "bedtools v2.30.0\n"
     ]
    }
   ],
   "source": [
    "%%bash\n",
    "vcftools --version\n",
    "bedtools --version"
   ]
  },
  {
   "cell_type": "code",
   "execution_count": null,
   "id": "ee821415",
   "metadata": {},
   "outputs": [],
   "source": []
  }
 ],
 "metadata": {
  "kernelspec": {
   "display_name": "Python 3 (ipykernel)",
   "language": "python",
   "name": "python3"
  },
  "language_info": {
   "codemirror_mode": {
    "name": "ipython",
    "version": 3
   },
   "file_extension": ".py",
   "mimetype": "text/x-python",
   "name": "python",
   "nbconvert_exporter": "python",
   "pygments_lexer": "ipython3",
   "version": "3.10.6"
  }
 },
 "nbformat": 4,
 "nbformat_minor": 5
}
