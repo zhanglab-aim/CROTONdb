{
 "cells": [
  {
   "cell_type": "markdown",
   "id": "91429cec",
   "metadata": {},
   "source": [
    "# Get PAM sites in whole-genome coding regions\n",
    "\n",
    "This notebook uses python package `gffutils` to parse CDS, and `re` to find positions of NGG PAMs.\n",
    "\n",
    "This serves as the first layer of reference genome predictions\n"
   ]
  },
  {
   "cell_type": "code",
   "execution_count": 1,
   "id": "66b72a1a",
   "metadata": {},
   "outputs": [
    {
     "name": "stdout",
     "output_type": "stream",
     "text": [
      "/common/zhangz2lab/jling/CROTONdb\n"
     ]
    }
   ],
   "source": [
    "# move up one-level to access backend\n",
    "%cd /common/zhangz2lab/jling/CROTONdb/"
   ]
  },
  {
   "cell_type": "code",
   "execution_count": 2,
   "id": "83d30bb1",
   "metadata": {},
   "outputs": [],
   "source": [
    "import backend\n",
    "# for watermark\n",
    "import gffutils\n",
    "import pandas as pd\n",
    "import numpy as np\n",
    "import os\n",
    "import json\n",
    "from pyfaidx import Fasta\n",
    "from tqdm import tqdm\n",
    "import time"
   ]
  },
  {
   "cell_type": "code",
   "execution_count": 3,
   "id": "acb5797c",
   "metadata": {},
   "outputs": [
    {
     "data": {
      "text/plain": [
       "'/common/zhangz2lab/jling/CROTONdb/backend/../frontend/data'"
      ]
     },
     "execution_count": 3,
     "metadata": {},
     "output_type": "execute_result"
    }
   ],
   "source": [
    "backend.configs.DATA_DIR"
   ]
  },
  {
   "cell_type": "code",
   "execution_count": 4,
   "id": "ae62684b",
   "metadata": {},
   "outputs": [
    {
     "name": "stdout",
     "output_type": "stream",
     "text": [
      "GTF_DB_PATH: /common/zhangz2lab/jling/CROTONdb/backend/../frontend/data/genomes/Small_Test_Genome.CROTONTest.gff3.gtf_sqldb\n",
      "found GTF file but not SQL database, building with gffutils; this will only run once.\n",
      "took 0.100 seconds..\n"
     ]
    }
   ],
   "source": [
    "print (\"GTF_DB_PATH:\",backend.configs.GTF_DB_PATH)\n",
    "\n",
    "if os.path.isfile(backend.configs.GTF_DB_PATH.rstrip('.gtf_sqldb')) and \\\n",
    "   not os.path.isfile(backend.configs.GTF_DB_PATH):\n",
    "    t0 = time.time()\n",
    "    print(\"found GTF file but not SQL database, building with gffutils; this will only run once.\")\n",
    "    # see here: https://daler.github.io/gffutils/autodocs/gffutils.create.create_db.html\n",
    "    gffutils.create.create_db(\n",
    "        data=backend.configs.GTF_DB_PATH.rstrip('.gtf_sqldb'),\n",
    "        dbfn=backend.configs.GTF_DB_PATH,\n",
    "        merge_strategy=\"merge\",\n",
    "    )\n",
    "    print(\"took %.3f seconds..\" % (time.time() - t0))"
   ]
  },
  {
   "cell_type": "code",
   "execution_count": 5,
   "id": "db4b1934",
   "metadata": {},
   "outputs": [
    {
     "name": "stdout",
     "output_type": "stream",
     "text": [
      "reading gtf_db..\n"
     ]
    },
    {
     "name": "stderr",
     "output_type": "stream",
     "text": [
      "100%|██████████| 2/2 [00:00<00:00, 13751.82it/s]\n"
     ]
    },
    {
     "data": {
      "text/html": [
       "<div>\n",
       "<style scoped>\n",
       "    .dataframe tbody tr th:only-of-type {\n",
       "        vertical-align: middle;\n",
       "    }\n",
       "\n",
       "    .dataframe tbody tr th {\n",
       "        vertical-align: top;\n",
       "    }\n",
       "\n",
       "    .dataframe thead th {\n",
       "        text-align: right;\n",
       "    }\n",
       "</style>\n",
       "<table border=\"1\" class=\"dataframe\">\n",
       "  <thead>\n",
       "    <tr style=\"text-align: right;\">\n",
       "      <th></th>\n",
       "      <th>genename</th>\n",
       "      <th>chrom</th>\n",
       "      <th>start</th>\n",
       "      <th>end</th>\n",
       "      <th>strand</th>\n",
       "    </tr>\n",
       "  </thead>\n",
       "  <tbody>\n",
       "    <tr>\n",
       "      <th>0</th>\n",
       "      <td>CROTONTestGene</td>\n",
       "      <td>chr1</td>\n",
       "      <td>0</td>\n",
       "      <td>30</td>\n",
       "      <td>+</td>\n",
       "    </tr>\n",
       "    <tr>\n",
       "      <th>1</th>\n",
       "      <td>CROTONTestGene</td>\n",
       "      <td>chr1</td>\n",
       "      <td>12</td>\n",
       "      <td>40</td>\n",
       "      <td>+</td>\n",
       "    </tr>\n",
       "  </tbody>\n",
       "</table>\n",
       "</div>"
      ],
      "text/plain": [
       "         genename chrom  start  end strand\n",
       "0  CROTONTestGene  chr1      0   30      +\n",
       "1  CROTONTestGene  chr1     12   40      +"
      ]
     },
     "execution_count": 5,
     "metadata": {},
     "output_type": "execute_result"
    }
   ],
   "source": [
    "cds_df = backend.get_CDS_df(db_path=backend.configs.GTF_DB_PATH)\n",
    "\n",
    "cds_df"
   ]
  },
  {
   "cell_type": "code",
   "execution_count": 6,
   "id": "005dffca",
   "metadata": {},
   "outputs": [
    {
     "name": "stderr",
     "output_type": "stream",
     "text": [
      "100%|██████████| 2/2 [00:00<00:00, 3433.73it/s]\n"
     ]
    },
    {
     "data": {
      "text/html": [
       "<div>\n",
       "<style scoped>\n",
       "    .dataframe tbody tr th:only-of-type {\n",
       "        vertical-align: middle;\n",
       "    }\n",
       "\n",
       "    .dataframe tbody tr th {\n",
       "        vertical-align: top;\n",
       "    }\n",
       "\n",
       "    .dataframe thead th {\n",
       "        text-align: right;\n",
       "    }\n",
       "</style>\n",
       "<table border=\"1\" class=\"dataframe\">\n",
       "  <thead>\n",
       "    <tr style=\"text-align: right;\">\n",
       "      <th></th>\n",
       "      <th>genename</th>\n",
       "      <th>chrom</th>\n",
       "      <th>start</th>\n",
       "      <th>end</th>\n",
       "      <th>strand</th>\n",
       "      <th>seq</th>\n",
       "    </tr>\n",
       "  </thead>\n",
       "  <tbody>\n",
       "    <tr>\n",
       "      <th>0</th>\n",
       "      <td>CROTONTestGene</td>\n",
       "      <td>chr1</td>\n",
       "      <td>0</td>\n",
       "      <td>30</td>\n",
       "      <td>+</td>\n",
       "      <td>ATGACGGCGACGAACAAGCACCTCATACGA</td>\n",
       "    </tr>\n",
       "    <tr>\n",
       "      <th>1</th>\n",
       "      <td>CROTONTestGene</td>\n",
       "      <td>chr1</td>\n",
       "      <td>12</td>\n",
       "      <td>40</td>\n",
       "      <td>+</td>\n",
       "      <td>AACAAGCACCTCATACGAAAGCACCTCA</td>\n",
       "    </tr>\n",
       "  </tbody>\n",
       "</table>\n",
       "</div>"
      ],
      "text/plain": [
       "         genename chrom  start  end strand                             seq\n",
       "0  CROTONTestGene  chr1      0   30      +  ATGACGGCGACGAACAAGCACCTCATACGA\n",
       "1  CROTONTestGene  chr1     12   40      +    AACAAGCACCTCATACGAAAGCACCTCA"
      ]
     },
     "execution_count": 6,
     "metadata": {},
     "output_type": "execute_result"
    }
   ],
   "source": [
    "cds_df = backend.get_CDS_seq(df=cds_df, genome_path=backend.configs.GENOME_FA_PATH)\n",
    "\n",
    "cds_df"
   ]
  },
  {
   "cell_type": "code",
   "execution_count": 7,
   "id": "cd0b3f40",
   "metadata": {},
   "outputs": [
    {
     "name": "stderr",
     "output_type": "stream",
     "text": [
      "100%|██████████| 2/2 [00:00<00:00, 2629.66it/s]\n"
     ]
    }
   ],
   "source": [
    "pam_df = backend.get_PAM_coords(df=cds_df)"
   ]
  },
  {
   "cell_type": "code",
   "execution_count": 8,
   "id": "5728e735",
   "metadata": {},
   "outputs": [
    {
     "data": {
      "text/html": [
       "<div>\n",
       "<style scoped>\n",
       "    .dataframe tbody tr th:only-of-type {\n",
       "        vertical-align: middle;\n",
       "    }\n",
       "\n",
       "    .dataframe tbody tr th {\n",
       "        vertical-align: top;\n",
       "    }\n",
       "\n",
       "    .dataframe thead th {\n",
       "        text-align: right;\n",
       "    }\n",
       "</style>\n",
       "<table border=\"1\" class=\"dataframe\">\n",
       "  <thead>\n",
       "    <tr style=\"text-align: right;\">\n",
       "      <th></th>\n",
       "      <th>genename</th>\n",
       "      <th>chrom</th>\n",
       "      <th>start</th>\n",
       "      <th>end</th>\n",
       "      <th>strand</th>\n",
       "      <th>seq</th>\n",
       "      <th>pams</th>\n",
       "      <th>rc_pams</th>\n",
       "    </tr>\n",
       "  </thead>\n",
       "  <tbody>\n",
       "    <tr>\n",
       "      <th>0</th>\n",
       "      <td>CROTONTestGene</td>\n",
       "      <td>chr1</td>\n",
       "      <td>0</td>\n",
       "      <td>30</td>\n",
       "      <td>+</td>\n",
       "      <td>ATGACGGCGACGAACAAGCACCTCATACGA</td>\n",
       "      <td>[4]</td>\n",
       "      <td>[23]</td>\n",
       "    </tr>\n",
       "    <tr>\n",
       "      <th>1</th>\n",
       "      <td>CROTONTestGene</td>\n",
       "      <td>chr1</td>\n",
       "      <td>12</td>\n",
       "      <td>40</td>\n",
       "      <td>+</td>\n",
       "      <td>AACAAGCACCTCATACGAAAGCACCTCA</td>\n",
       "      <td>[]</td>\n",
       "      <td>[38, 23]</td>\n",
       "    </tr>\n",
       "  </tbody>\n",
       "</table>\n",
       "</div>"
      ],
      "text/plain": [
       "         genename chrom  start  end strand                             seq  \\\n",
       "0  CROTONTestGene  chr1      0   30      +  ATGACGGCGACGAACAAGCACCTCATACGA   \n",
       "1  CROTONTestGene  chr1     12   40      +    AACAAGCACCTCATACGAAAGCACCTCA   \n",
       "\n",
       "  pams   rc_pams  \n",
       "0  [4]      [23]  \n",
       "1   []  [38, 23]  "
      ]
     },
     "execution_count": 8,
     "metadata": {},
     "output_type": "execute_result"
    }
   ],
   "source": [
    "pam_df.head()"
   ]
  },
  {
   "cell_type": "code",
   "execution_count": 9,
   "id": "2e104203",
   "metadata": {
    "scrolled": true
   },
   "outputs": [
    {
     "name": "stderr",
     "output_type": "stream",
     "text": [
      "100%|██████████| 1/1 [00:00<00:00, 354.10it/s]"
     ]
    },
    {
     "name": "stdout",
     "output_type": "stream",
     "text": [
      "processed PAMs in CDS: (3, 7)\n",
      "skipped genes: []\n"
     ]
    },
    {
     "name": "stderr",
     "output_type": "stream",
     "text": [
      "\n"
     ]
    }
   ],
   "source": [
    "# to make 60bp input for CROTON, we pad 33bp to the left of PAM, and 27bp to the right\n",
    "CDSpamsbed_df, skipped_genes = backend.make_CDSpamsbed(pam_df=pam_df, pam_left=33, pam_right=27)"
   ]
  },
  {
   "cell_type": "code",
   "execution_count": 10,
   "id": "cc81654f",
   "metadata": {},
   "outputs": [
    {
     "name": "stderr",
     "output_type": "stream",
     "text": [
      "100%|██████████| 3/3 [00:00<00:00, 5167.52it/s]\n"
     ]
    }
   ],
   "source": [
    "CDSpamsbed_df = backend.get_ref_PAM_seq(df=CDSpamsbed_df, genome_path=backend.configs.GENOME_FA_PATH)"
   ]
  },
  {
   "cell_type": "code",
   "execution_count": 11,
   "id": "2ab99f9a",
   "metadata": {},
   "outputs": [
    {
     "data": {
      "text/html": [
       "<div>\n",
       "<style scoped>\n",
       "    .dataframe tbody tr th:only-of-type {\n",
       "        vertical-align: middle;\n",
       "    }\n",
       "\n",
       "    .dataframe tbody tr th {\n",
       "        vertical-align: top;\n",
       "    }\n",
       "\n",
       "    .dataframe thead th {\n",
       "        text-align: right;\n",
       "    }\n",
       "</style>\n",
       "<table border=\"1\" class=\"dataframe\">\n",
       "  <thead>\n",
       "    <tr style=\"text-align: right;\">\n",
       "      <th></th>\n",
       "      <th>start</th>\n",
       "      <th>end</th>\n",
       "      <th>strand</th>\n",
       "      <th>#</th>\n",
       "      <th>genename</th>\n",
       "      <th>num</th>\n",
       "      <th>pamid</th>\n",
       "      <th>ref_seq</th>\n",
       "    </tr>\n",
       "  </thead>\n",
       "  <tbody>\n",
       "    <tr>\n",
       "      <th>2</th>\n",
       "      <td>-29</td>\n",
       "      <td>31</td>\n",
       "      <td>+</td>\n",
       "      <td>1</td>\n",
       "      <td>CROTONTestGene</td>\n",
       "      <td>1</td>\n",
       "      <td>CROTONTestGene|1</td>\n",
       "      <td>GAACAAGCACCTCATACGAA</td>\n",
       "    </tr>\n",
       "    <tr>\n",
       "      <th>1</th>\n",
       "      <td>-4</td>\n",
       "      <td>56</td>\n",
       "      <td>-</td>\n",
       "      <td>1</td>\n",
       "      <td>CROTONTestGene</td>\n",
       "      <td>2</td>\n",
       "      <td>CROTONTestGene|2</td>\n",
       "      <td>TGAG</td>\n",
       "    </tr>\n",
       "    <tr>\n",
       "      <th>0</th>\n",
       "      <td>11</td>\n",
       "      <td>71</td>\n",
       "      <td>-</td>\n",
       "      <td>1</td>\n",
       "      <td>CROTONTestGene</td>\n",
       "      <td>3</td>\n",
       "      <td>CROTONTestGene|3</td>\n",
       "      <td>TGAGGTGCTTTCGTATGAGGTGCTTGTTC</td>\n",
       "    </tr>\n",
       "  </tbody>\n",
       "</table>\n",
       "</div>"
      ],
      "text/plain": [
       "   start  end strand  #        genename  num             pamid  \\\n",
       "2    -29   31      +  1  CROTONTestGene    1  CROTONTestGene|1   \n",
       "1     -4   56      -  1  CROTONTestGene    2  CROTONTestGene|2   \n",
       "0     11   71      -  1  CROTONTestGene    3  CROTONTestGene|3   \n",
       "\n",
       "                         ref_seq  \n",
       "2           GAACAAGCACCTCATACGAA  \n",
       "1                           TGAG  \n",
       "0  TGAGGTGCTTTCGTATGAGGTGCTTGTTC  "
      ]
     },
     "execution_count": 11,
     "metadata": {},
     "output_type": "execute_result"
    }
   ],
   "source": [
    "CDSpamsbed_df.head()"
   ]
  },
  {
   "cell_type": "code",
   "execution_count": 15,
   "id": "241dc084",
   "metadata": {},
   "outputs": [
    {
     "name": "stdout",
     "output_type": "stream",
     "text": [
      "X\n",
      "1\n",
      "2\n",
      "3\n",
      "4\n",
      "5\n",
      "6\n",
      "7\n",
      "8\n",
      "9\n",
      "10\n",
      "11\n",
      "12\n",
      "13\n",
      "14\n",
      "15\n",
      "16\n",
      "17\n",
      "18\n",
      "19\n",
      "20\n",
      "21\n",
      "22\n"
     ]
    }
   ],
   "source": [
    "backend.subset_CDSpams(CDSpamsbed_df, save_path=backend.configs.CDS_PAM_DIR, chrom_type='number')"
   ]
  },
  {
   "cell_type": "code",
   "execution_count": 13,
   "id": "535285c5",
   "metadata": {},
   "outputs": [
    {
     "name": "stdout",
     "output_type": "stream",
     "text": [
      "Last updated: Wed Dec 14 2022\n",
      "\n",
      "Python implementation: CPython\n",
      "Python version       : 3.10.6\n",
      "IPython version      : 8.5.0\n",
      "\n",
      "gffutils: 0.11.1\n",
      "json    : 2.0.9\n",
      "pandas  : 1.5.2\n",
      "backend : 0.0.1\n",
      "numpy   : 1.23.4\n",
      "\n",
      "Watermark: 2.3.1\n",
      "\n"
     ]
    }
   ],
   "source": [
    "%load_ext watermark\n",
    "%watermark -n -u -v -iv -w"
   ]
  },
  {
   "cell_type": "code",
   "execution_count": null,
   "id": "174835fc",
   "metadata": {},
   "outputs": [],
   "source": []
  }
 ],
 "metadata": {
  "kernelspec": {
   "display_name": "Python 3 (ipykernel)",
   "language": "python",
   "name": "python3"
  },
  "language_info": {
   "codemirror_mode": {
    "name": "ipython",
    "version": 3
   },
   "file_extension": ".py",
   "mimetype": "text/x-python",
   "name": "python",
   "nbconvert_exporter": "python",
   "pygments_lexer": "ipython3",
   "version": "3.10.6"
  }
 },
 "nbformat": 4,
 "nbformat_minor": 5
}
