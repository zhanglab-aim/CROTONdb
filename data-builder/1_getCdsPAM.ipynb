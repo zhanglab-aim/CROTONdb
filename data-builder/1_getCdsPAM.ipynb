{
 "cells": [
  {
   "cell_type": "markdown",
   "id": "91429cec",
   "metadata": {},
   "source": [
    "# Get PAM sites in whole-genome coding regions\n",
    "\n",
    "This notebook uses python package `gffutils` to parse CDS, and `re` to find positions of NGG PAMs.\n",
    "\n",
    "This serves as the first layer of reference genome predictions\n"
   ]
  },
  {
   "cell_type": "code",
   "execution_count": 1,
   "id": "66b72a1a",
   "metadata": {},
   "outputs": [
    {
     "name": "stdout",
     "output_type": "stream",
     "text": [
      "/mnt/ceph/users/zzhang/CROTONdb\n"
     ]
    }
   ],
   "source": [
    "# move up one-level to access backend\n",
    "%cd .."
   ]
  },
  {
   "cell_type": "code",
   "execution_count": 2,
   "id": "83d30bb1",
   "metadata": {},
   "outputs": [],
   "source": [
    "import backend\n",
    "# for watermark\n",
    "import gffutils\n",
    "import pandas as pd\n",
    "import numpy as np\n",
    "import os\n",
    "import json\n",
    "from pyfaidx import Fasta\n",
    "from tqdm import tqdm"
   ]
  },
  {
   "cell_type": "code",
   "execution_count": 3,
   "id": "acb5797c",
   "metadata": {},
   "outputs": [
    {
     "data": {
      "text/plain": [
       "'/mnt/ceph/users/zzhang/CROTONdb/backend/../frontend/data'"
      ]
     },
     "execution_count": 3,
     "metadata": {},
     "output_type": "execute_result"
    }
   ],
   "source": [
    "backend.configs.DATA_DIR"
   ]
  },
  {
   "cell_type": "code",
   "execution_count": 4,
   "id": "db4b1934",
   "metadata": {},
   "outputs": [
    {
     "name": "stdout",
     "output_type": "stream",
     "text": [
      "reading gtf_db..\n"
     ]
    },
    {
     "name": "stderr",
     "output_type": "stream",
     "text": [
      "100%|██████████| 774993/774993 [00:31<00:00, 24231.73it/s]\n"
     ]
    }
   ],
   "source": [
    "cds_df = backend.get_CDS_df(db_path=backend.configs.GTF_DB_PATH)"
   ]
  },
  {
   "cell_type": "code",
   "execution_count": 5,
   "id": "005dffca",
   "metadata": {},
   "outputs": [
    {
     "name": "stderr",
     "output_type": "stream",
     "text": [
      "100%|██████████| 772964/772964 [00:42<00:00, 18070.53it/s]\n",
      "/mnt/ceph/users/zzhang/CROTONdb/backend/get_CDSpams.py:98: SettingWithCopyWarning: \n",
      "A value is trying to be set on a copy of a slice from a DataFrame.\n",
      "Try using .loc[row_indexer,col_indexer] = value instead\n",
      "\n",
      "See the caveats in the documentation: https://pandas.pydata.org/pandas-docs/stable/user_guide/indexing.html#returning-a-view-versus-a-copy\n",
      "  df['seq'] = seqs\n"
     ]
    }
   ],
   "source": [
    "cds_df = backend.get_CDS_seq(df=cds_df, genome_path=backend.configs.GENOME_FA_PATH)"
   ]
  },
  {
   "cell_type": "code",
   "execution_count": 6,
   "id": "cd0b3f40",
   "metadata": {},
   "outputs": [
    {
     "name": "stderr",
     "output_type": "stream",
     "text": [
      "100%|██████████| 772964/772964 [01:03<00:00, 12170.26it/s]\n"
     ]
    }
   ],
   "source": [
    "pam_df = backend.get_PAM_coords(df=cds_df)"
   ]
  },
  {
   "cell_type": "code",
   "execution_count": 7,
   "id": "5728e735",
   "metadata": {},
   "outputs": [
    {
     "data": {
      "text/html": [
       "<div>\n",
       "<style scoped>\n",
       "    .dataframe tbody tr th:only-of-type {\n",
       "        vertical-align: middle;\n",
       "    }\n",
       "\n",
       "    .dataframe tbody tr th {\n",
       "        vertical-align: top;\n",
       "    }\n",
       "\n",
       "    .dataframe thead th {\n",
       "        text-align: right;\n",
       "    }\n",
       "</style>\n",
       "<table border=\"1\" class=\"dataframe\">\n",
       "  <thead>\n",
       "    <tr style=\"text-align: right;\">\n",
       "      <th></th>\n",
       "      <th>genename</th>\n",
       "      <th>chrom</th>\n",
       "      <th>start</th>\n",
       "      <th>end</th>\n",
       "      <th>strand</th>\n",
       "      <th>seq</th>\n",
       "      <th>pams</th>\n",
       "      <th>rc_pams</th>\n",
       "    </tr>\n",
       "  </thead>\n",
       "  <tbody>\n",
       "    <tr>\n",
       "      <th>0</th>\n",
       "      <td>OR4F5</td>\n",
       "      <td>chr1</td>\n",
       "      <td>65564</td>\n",
       "      <td>65573</td>\n",
       "      <td>+</td>\n",
       "      <td>ATGAAGAAG</td>\n",
       "      <td>[]</td>\n",
       "      <td>[]</td>\n",
       "    </tr>\n",
       "    <tr>\n",
       "      <th>1</th>\n",
       "      <td>OR4F5</td>\n",
       "      <td>chr1</td>\n",
       "      <td>69036</td>\n",
       "      <td>70008</td>\n",
       "      <td>+</td>\n",
       "      <td>GTAACTGCAGAGGCTATTTCCTGGAATGAATCAACGAGTGAAACGA...</td>\n",
       "      <td>[69046, 69130, 69176, 69352, 69586, 69615, 696...</td>\n",
       "      <td>[69909, 69881, 69847, 69756, 69734, 69646, 696...</td>\n",
       "    </tr>\n",
       "    <tr>\n",
       "      <th>2</th>\n",
       "      <td>OR4F5</td>\n",
       "      <td>chr1</td>\n",
       "      <td>69090</td>\n",
       "      <td>70008</td>\n",
       "      <td>+</td>\n",
       "      <td>ATGGTGACTGAATTCATTTTTCTGGGTCTCTCTGATTCTCAGGAAC...</td>\n",
       "      <td>[69130, 69176, 69352, 69586, 69615, 69648, 699...</td>\n",
       "      <td>[69909, 69881, 69847, 69756, 69734, 69646, 696...</td>\n",
       "    </tr>\n",
       "    <tr>\n",
       "      <th>3</th>\n",
       "      <td>OR4F29</td>\n",
       "      <td>chr1</td>\n",
       "      <td>450739</td>\n",
       "      <td>451678</td>\n",
       "      <td>-</td>\n",
       "      <td>ATGGATGGAGAGAATCACTCAGTGGTATCTGAGTTTTTGTTTCTGG...</td>\n",
       "      <td>[450838, 450889, 450935, 450968, 450990, 45101...</td>\n",
       "      <td>[451466, 451394, 450989, 450975, 450811, 45080...</td>\n",
       "    </tr>\n",
       "    <tr>\n",
       "      <th>4</th>\n",
       "      <td>OR4F16</td>\n",
       "      <td>chr1</td>\n",
       "      <td>685715</td>\n",
       "      <td>686654</td>\n",
       "      <td>-</td>\n",
       "      <td>ATGGATGGAGAGAATCACTCAGTGGTATCTGAGTTTTTGTTTCTGG...</td>\n",
       "      <td>[685814, 685865, 685911, 685944, 685966, 68598...</td>\n",
       "      <td>[686442, 686370, 685965, 685951, 685787, 68578...</td>\n",
       "    </tr>\n",
       "  </tbody>\n",
       "</table>\n",
       "</div>"
      ],
      "text/plain": [
       "  genename chrom   start     end strand  \\\n",
       "0    OR4F5  chr1   65564   65573      +   \n",
       "1    OR4F5  chr1   69036   70008      +   \n",
       "2    OR4F5  chr1   69090   70008      +   \n",
       "3   OR4F29  chr1  450739  451678      -   \n",
       "4   OR4F16  chr1  685715  686654      -   \n",
       "\n",
       "                                                 seq  \\\n",
       "0                                          ATGAAGAAG   \n",
       "1  GTAACTGCAGAGGCTATTTCCTGGAATGAATCAACGAGTGAAACGA...   \n",
       "2  ATGGTGACTGAATTCATTTTTCTGGGTCTCTCTGATTCTCAGGAAC...   \n",
       "3  ATGGATGGAGAGAATCACTCAGTGGTATCTGAGTTTTTGTTTCTGG...   \n",
       "4  ATGGATGGAGAGAATCACTCAGTGGTATCTGAGTTTTTGTTTCTGG...   \n",
       "\n",
       "                                                pams  \\\n",
       "0                                                 []   \n",
       "1  [69046, 69130, 69176, 69352, 69586, 69615, 696...   \n",
       "2  [69130, 69176, 69352, 69586, 69615, 69648, 699...   \n",
       "3  [450838, 450889, 450935, 450968, 450990, 45101...   \n",
       "4  [685814, 685865, 685911, 685944, 685966, 68598...   \n",
       "\n",
       "                                             rc_pams  \n",
       "0                                                 []  \n",
       "1  [69909, 69881, 69847, 69756, 69734, 69646, 696...  \n",
       "2  [69909, 69881, 69847, 69756, 69734, 69646, 696...  \n",
       "3  [451466, 451394, 450989, 450975, 450811, 45080...  \n",
       "4  [686442, 686370, 685965, 685951, 685787, 68578...  "
      ]
     },
     "execution_count": 7,
     "metadata": {},
     "output_type": "execute_result"
    }
   ],
   "source": [
    "pam_df.head()"
   ]
  },
  {
   "cell_type": "code",
   "execution_count": 8,
   "id": "2e104203",
   "metadata": {
    "scrolled": true
   },
   "outputs": [
    {
     "name": "stderr",
     "output_type": "stream",
     "text": [
      "100%|██████████| 20326/20326 [06:03<00:00, 55.98it/s]\n"
     ]
    },
    {
     "name": "stdout",
     "output_type": "stream",
     "text": [
      "processed PAMs in CDS: (5377203, 7)\n",
      "skipped genes: []\n"
     ]
    }
   ],
   "source": [
    "# to make 60bp input for CROTON, we pad 33bp to the left of PAM, and 27bp to the right\n",
    "CDSpamsbed_df, skipped_genes = backend.make_CDSpamsbed(pam_df=pam_df, pam_left=33, pam_right=27)"
   ]
  },
  {
   "cell_type": "code",
   "execution_count": 9,
   "id": "cc81654f",
   "metadata": {},
   "outputs": [
    {
     "name": "stderr",
     "output_type": "stream",
     "text": [
      "100%|██████████| 5377203/5377203 [04:44<00:00, 18910.55it/s]\n"
     ]
    }
   ],
   "source": [
    "CDSpamsbed_df = backend.get_ref_PAM_seq(df=CDSpamsbed_df, genome_path=backend.configs.GENOME_FA_PATH)"
   ]
  },
  {
   "cell_type": "code",
   "execution_count": 10,
   "id": "2ab99f9a",
   "metadata": {},
   "outputs": [
    {
     "data": {
      "text/html": [
       "<div>\n",
       "<style scoped>\n",
       "    .dataframe tbody tr th:only-of-type {\n",
       "        vertical-align: middle;\n",
       "    }\n",
       "\n",
       "    .dataframe tbody tr th {\n",
       "        vertical-align: top;\n",
       "    }\n",
       "\n",
       "    .dataframe thead th {\n",
       "        text-align: right;\n",
       "    }\n",
       "</style>\n",
       "<table border=\"1\" class=\"dataframe\">\n",
       "  <thead>\n",
       "    <tr style=\"text-align: right;\">\n",
       "      <th></th>\n",
       "      <th>start</th>\n",
       "      <th>end</th>\n",
       "      <th>strand</th>\n",
       "      <th>#</th>\n",
       "      <th>genename</th>\n",
       "      <th>num</th>\n",
       "      <th>pamid</th>\n",
       "      <th>ref_seq</th>\n",
       "    </tr>\n",
       "  </thead>\n",
       "  <tbody>\n",
       "    <tr>\n",
       "      <th>71</th>\n",
       "      <td>69013</td>\n",
       "      <td>69073</td>\n",
       "      <td>+</td>\n",
       "      <td>1</td>\n",
       "      <td>OR4F5</td>\n",
       "      <td>1</td>\n",
       "      <td>OR4F5|1</td>\n",
       "      <td>TCCTTCTCCTTCTCTTCTTCAAGGTAACTGCAGAGGCTATTTCCTG...</td>\n",
       "    </tr>\n",
       "    <tr>\n",
       "      <th>74</th>\n",
       "      <td>69024</td>\n",
       "      <td>69084</td>\n",
       "      <td>+</td>\n",
       "      <td>1</td>\n",
       "      <td>OR4F5</td>\n",
       "      <td>2</td>\n",
       "      <td>OR4F5|2</td>\n",
       "      <td>CTCTTCTTCAAGGTAACTGCAGAGGCTATTTCCTGGAATGAATCAA...</td>\n",
       "    </tr>\n",
       "    <tr>\n",
       "      <th>25</th>\n",
       "      <td>69031</td>\n",
       "      <td>69091</td>\n",
       "      <td>-</td>\n",
       "      <td>1</td>\n",
       "      <td>OR4F5</td>\n",
       "      <td>3</td>\n",
       "      <td>OR4F5|3</td>\n",
       "      <td>TAGAGTTATTCGTTTCACTCGTTGATTCATTCCAGGAAATAGCCTC...</td>\n",
       "    </tr>\n",
       "    <tr>\n",
       "      <th>83</th>\n",
       "      <td>69058</td>\n",
       "      <td>69118</td>\n",
       "      <td>+</td>\n",
       "      <td>1</td>\n",
       "      <td>OR4F5</td>\n",
       "      <td>4</td>\n",
       "      <td>OR4F5|4</td>\n",
       "      <td>GGAATGAATCAACGAGTGAAACGAATAACTCTATGGTGACTGAATT...</td>\n",
       "    </tr>\n",
       "    <tr>\n",
       "      <th>90</th>\n",
       "      <td>69079</td>\n",
       "      <td>69139</td>\n",
       "      <td>+</td>\n",
       "      <td>1</td>\n",
       "      <td>OR4F5</td>\n",
       "      <td>5</td>\n",
       "      <td>OR4F5|5</td>\n",
       "      <td>CGAATAACTCTATGGTGACTGAATTCATTTTTCTGGGTCTCTCTGA...</td>\n",
       "    </tr>\n",
       "  </tbody>\n",
       "</table>\n",
       "</div>"
      ],
      "text/plain": [
       "    start    end strand  # genename  num    pamid  \\\n",
       "71  69013  69073      +  1    OR4F5    1  OR4F5|1   \n",
       "74  69024  69084      +  1    OR4F5    2  OR4F5|2   \n",
       "25  69031  69091      -  1    OR4F5    3  OR4F5|3   \n",
       "83  69058  69118      +  1    OR4F5    4  OR4F5|4   \n",
       "90  69079  69139      +  1    OR4F5    5  OR4F5|5   \n",
       "\n",
       "                                              ref_seq  \n",
       "71  TCCTTCTCCTTCTCTTCTTCAAGGTAACTGCAGAGGCTATTTCCTG...  \n",
       "74  CTCTTCTTCAAGGTAACTGCAGAGGCTATTTCCTGGAATGAATCAA...  \n",
       "25  TAGAGTTATTCGTTTCACTCGTTGATTCATTCCAGGAAATAGCCTC...  \n",
       "83  GGAATGAATCAACGAGTGAAACGAATAACTCTATGGTGACTGAATT...  \n",
       "90  CGAATAACTCTATGGTGACTGAATTCATTTTTCTGGGTCTCTCTGA...  "
      ]
     },
     "execution_count": 10,
     "metadata": {},
     "output_type": "execute_result"
    }
   ],
   "source": [
    "CDSpamsbed_df.head()"
   ]
  },
  {
   "cell_type": "code",
   "execution_count": 11,
   "id": "241dc084",
   "metadata": {},
   "outputs": [
    {
     "name": "stdout",
     "output_type": "stream",
     "text": [
      "X\n",
      "1\n",
      "2\n",
      "3\n",
      "4\n",
      "5\n",
      "6\n",
      "7\n",
      "8\n",
      "9\n",
      "10\n",
      "11\n",
      "12\n",
      "13\n",
      "14\n",
      "15\n",
      "16\n",
      "17\n",
      "18\n",
      "19\n",
      "20\n",
      "21\n",
      "22\n"
     ]
    }
   ],
   "source": [
    "backend.subset_CDSpams(CDSpamsbed_df, save_path=backend.configs.CDS_PAM_DIR, chrom_type='number')"
   ]
  },
  {
   "cell_type": "code",
   "execution_count": 12,
   "id": "535285c5",
   "metadata": {},
   "outputs": [
    {
     "name": "stdout",
     "output_type": "stream",
     "text": [
      "Last updated: Sun Aug 28 2022\n",
      "\n",
      "Python implementation: CPython\n",
      "Python version       : 3.7.9\n",
      "IPython version      : 7.22.0\n",
      "\n",
      "numpy   : 1.21.6\n",
      "json    : 2.0.9\n",
      "gffutils: 0.11.0\n",
      "pandas  : 1.3.5\n",
      "backend : 0.0.1\n",
      "\n",
      "Watermark: 2.3.1\n",
      "\n"
     ]
    }
   ],
   "source": [
    "%load_ext watermark\n",
    "%watermark -n -u -v -iv -w"
   ]
  },
  {
   "cell_type": "code",
   "execution_count": null,
   "id": "174835fc",
   "metadata": {},
   "outputs": [],
   "source": []
  }
 ],
 "metadata": {
  "kernelspec": {
   "display_name": "Python 3",
   "language": "python",
   "name": "python3"
  },
  "language_info": {
   "codemirror_mode": {
    "name": "ipython",
    "version": 3
   },
   "file_extension": ".py",
   "mimetype": "text/x-python",
   "name": "python",
   "nbconvert_exporter": "python",
   "pygments_lexer": "ipython3",
   "version": "3.7.9"
  }
 },
 "nbformat": 4,
 "nbformat_minor": 5
}
